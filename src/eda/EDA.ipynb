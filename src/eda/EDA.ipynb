{
 "cells": [
  {
   "cell_type": "code",
   "execution_count": 1,
   "metadata": {},
   "outputs": [
    {
     "name": "stderr",
     "output_type": "stream",
     "text": [
      "Failed to detect the name of this notebook, you can set it manually with the WANDB_NOTEBOOK_NAME environment variable to enable code saving.\n",
      "\u001b[34m\u001b[1mwandb\u001b[0m: Currently logged in as: \u001b[33mgeorgeboorman\u001b[0m (use `wandb login --relogin` to force relogin)\n",
      "\u001b[34m\u001b[1mwandb\u001b[0m: wandb version 0.13.3 is available!  To upgrade, please run:\n",
      "\u001b[34m\u001b[1mwandb\u001b[0m:  $ pip install wandb --upgrade\n"
     ]
    },
    {
     "data": {
      "text/html": [
       "\n",
       "                Tracking run with wandb version 0.10.31<br/>\n",
       "                Syncing run <strong style=\"color:#cdcd00\">wise-sky-6</strong> to <a href=\"https://wandb.ai\" target=\"_blank\">Weights & Biases</a> <a href=\"https://docs.wandb.com/integrations/jupyter.html\" target=\"_blank\">(Documentation)</a>.<br/>\n",
       "                Project page: <a href=\"https://wandb.ai/georgeboorman/nyc_airbnb\" target=\"_blank\">https://wandb.ai/georgeboorman/nyc_airbnb</a><br/>\n",
       "                Run page: <a href=\"https://wandb.ai/georgeboorman/nyc_airbnb/runs/2uiwfox5\" target=\"_blank\">https://wandb.ai/georgeboorman/nyc_airbnb/runs/2uiwfox5</a><br/>\n",
       "                Run data is saved locally in <code>/Users/georgeboorman/Documents/udacity/project_nyc_rental_prices/build-ml-pipeline-for-short-term-rental-prices/src/eda/wandb/run-20220930_145227-2uiwfox5</code><br/><br/>\n",
       "            "
      ],
      "text/plain": [
       "<IPython.core.display.HTML object>"
      ]
     },
     "metadata": {},
     "output_type": "display_data"
    }
   ],
   "source": [
    "import wandb\n",
    "import pandas as pd\n",
    "\n",
    "run = wandb.init(project=\"nyc_airbnb\", group=\"eda\", save_code=True)\n",
    "local_path = wandb.use_artifact(\"sample.csv:latest\").file()\n",
    "df = pd.read_csv(local_path)"
   ]
  },
  {
   "cell_type": "code",
   "execution_count": 2,
   "metadata": {},
   "outputs": [
    {
     "name": "stderr",
     "output_type": "stream",
     "text": [
      "/Users/georgeboorman/miniconda3/envs/mlflow-b72ed4c0c06d43bda6d31dff843990bef553e411/lib/python3.9/site-packages/tqdm/auto.py:22: TqdmWarning: IProgress not found. Please update jupyter and ipywidgets. See https://ipywidgets.readthedocs.io/en/stable/user_install.html\n",
      "  from .autonotebook import tqdm as notebook_tqdm\n",
      "Summarize dataset: 100%|██████████| 131/131 [00:11<00:00, 11.44it/s, Completed]                                                             \n",
      "Generate report structure: 100%|██████████| 1/1 [00:02<00:00,  2.20s/it]\n",
      "                                                     \r"
     ]
    },
    {
     "ename": "ModuleNotFoundError",
     "evalue": "No module named 'ipywidgets'",
     "output_type": "error",
     "traceback": [
      "\u001b[0;31m---------------------------------------------------------------------------\u001b[0m",
      "\u001b[0;31mModuleNotFoundError\u001b[0m                       Traceback (most recent call last)",
      "Cell \u001b[0;32mIn [2], line 4\u001b[0m\n\u001b[1;32m      1\u001b[0m \u001b[38;5;28;01mimport\u001b[39;00m \u001b[38;5;21;01mpandas_profiling\u001b[39;00m\n\u001b[1;32m      3\u001b[0m profile \u001b[38;5;241m=\u001b[39m pandas_profiling\u001b[38;5;241m.\u001b[39mProfileReport(df)\n\u001b[0;32m----> 4\u001b[0m profile\u001b[38;5;241m.\u001b[39mto_widgets()\n",
      "File \u001b[0;32m~/miniconda3/envs/mlflow-b72ed4c0c06d43bda6d31dff843990bef553e411/lib/python3.9/site-packages/pandas_profiling/profile_report.py:414\u001b[0m, in \u001b[0;36mProfileReport.to_widgets\u001b[0;34m(self)\u001b[0m\n\u001b[1;32m    410\u001b[0m     \u001b[39mpass\u001b[39;00m\n\u001b[1;32m    412\u001b[0m \u001b[39mfrom\u001b[39;00m \u001b[39mIPython\u001b[39;00m\u001b[39m.\u001b[39;00m\u001b[39mcore\u001b[39;00m\u001b[39m.\u001b[39;00m\u001b[39mdisplay\u001b[39;00m \u001b[39mimport\u001b[39;00m display\n\u001b[0;32m--> 414\u001b[0m display(\u001b[39mself\u001b[39;49m\u001b[39m.\u001b[39;49mwidgets)\n",
      "File \u001b[0;32m~/miniconda3/envs/mlflow-b72ed4c0c06d43bda6d31dff843990bef553e411/lib/python3.9/site-packages/pandas_profiling/profile_report.py:197\u001b[0m, in \u001b[0;36mProfileReport.widgets\u001b[0;34m(self)\u001b[0m\n\u001b[1;32m    194\u001b[0m \u001b[39m@property\u001b[39m\n\u001b[1;32m    195\u001b[0m \u001b[39mdef\u001b[39;00m \u001b[39mwidgets\u001b[39m(\u001b[39mself\u001b[39m) \u001b[39m-\u001b[39m\u001b[39m>\u001b[39m Renderable:\n\u001b[1;32m    196\u001b[0m     \u001b[39mif\u001b[39;00m \u001b[39mself\u001b[39m\u001b[39m.\u001b[39m_widgets \u001b[39mis\u001b[39;00m \u001b[39mNone\u001b[39;00m:\n\u001b[0;32m--> 197\u001b[0m         \u001b[39mself\u001b[39m\u001b[39m.\u001b[39m_widgets \u001b[39m=\u001b[39m \u001b[39mself\u001b[39;49m\u001b[39m.\u001b[39;49m_render_widgets()\n\u001b[1;32m    198\u001b[0m     \u001b[39mreturn\u001b[39;00m \u001b[39mself\u001b[39m\u001b[39m.\u001b[39m_widgets\n",
      "File \u001b[0;32m~/miniconda3/envs/mlflow-b72ed4c0c06d43bda6d31dff843990bef553e411/lib/python3.9/site-packages/pandas_profiling/profile_report.py:323\u001b[0m, in \u001b[0;36mProfileReport._render_widgets\u001b[0;34m(self)\u001b[0m\n\u001b[1;32m    315\u001b[0m report \u001b[39m=\u001b[39m \u001b[39mself\u001b[39m\u001b[39m.\u001b[39mreport\n\u001b[1;32m    317\u001b[0m \u001b[39mwith\u001b[39;00m tqdm(\n\u001b[1;32m    318\u001b[0m     total\u001b[39m=\u001b[39m\u001b[39m1\u001b[39m,\n\u001b[1;32m    319\u001b[0m     desc\u001b[39m=\u001b[39m\u001b[39m\"\u001b[39m\u001b[39mRender widgets\u001b[39m\u001b[39m\"\u001b[39m,\n\u001b[1;32m    320\u001b[0m     disable\u001b[39m=\u001b[39m\u001b[39mnot\u001b[39;00m \u001b[39mself\u001b[39m\u001b[39m.\u001b[39mconfig\u001b[39m.\u001b[39mprogress_bar,\n\u001b[1;32m    321\u001b[0m     leave\u001b[39m=\u001b[39m\u001b[39mFalse\u001b[39;00m,\n\u001b[1;32m    322\u001b[0m ) \u001b[39mas\u001b[39;00m pbar:\n\u001b[0;32m--> 323\u001b[0m     widgets \u001b[39m=\u001b[39m WidgetReport(copy\u001b[39m.\u001b[39;49mdeepcopy(report))\u001b[39m.\u001b[39mrender()\n\u001b[1;32m    324\u001b[0m     pbar\u001b[39m.\u001b[39mupdate()\n\u001b[1;32m    325\u001b[0m \u001b[39mreturn\u001b[39;00m widgets\n",
      "File \u001b[0;32m~/miniconda3/envs/mlflow-b72ed4c0c06d43bda6d31dff843990bef553e411/lib/python3.9/site-packages/pandas_profiling/report/presentation/flavours/flavours.py:139\u001b[0m, in \u001b[0;36mWidgetReport\u001b[0;34m(structure)\u001b[0m\n\u001b[1;32m    138\u001b[0m \u001b[39mdef\u001b[39;00m \u001b[39mWidgetReport\u001b[39m(structure: Root) \u001b[39m-\u001b[39m\u001b[39m>\u001b[39m Root:\n\u001b[0;32m--> 139\u001b[0m     mapping \u001b[39m=\u001b[39m get_widget_renderable_mapping()\n\u001b[1;32m    140\u001b[0m     apply_renderable_mapping(mapping, structure, flavour\u001b[39m=\u001b[39mWidgetReport)\n\u001b[1;32m    141\u001b[0m     \u001b[39mreturn\u001b[39;00m structure\n",
      "File \u001b[0;32m~/miniconda3/envs/mlflow-b72ed4c0c06d43bda6d31dff843990bef553e411/lib/python3.9/site-packages/pandas_profiling/report/presentation/flavours/flavours.py:103\u001b[0m, in \u001b[0;36mget_widget_renderable_mapping\u001b[0;34m()\u001b[0m\n\u001b[1;32m     86\u001b[0m \u001b[39mdef\u001b[39;00m \u001b[39mget_widget_renderable_mapping\u001b[39m() \u001b[39m-\u001b[39m\u001b[39m>\u001b[39m Dict[Type[Renderable], Type[Renderable]]:\n\u001b[1;32m     87\u001b[0m     \u001b[39mfrom\u001b[39;00m \u001b[39mpandas_profiling\u001b[39;00m\u001b[39m.\u001b[39;00m\u001b[39mreport\u001b[39;00m\u001b[39m.\u001b[39;00m\u001b[39mpresentation\u001b[39;00m\u001b[39m.\u001b[39;00m\u001b[39mcore\u001b[39;00m \u001b[39mimport\u001b[39;00m (\n\u001b[1;32m     88\u001b[0m         HTML,\n\u001b[1;32m     89\u001b[0m         Alerts,\n\u001b[0;32m   (...)\u001b[0m\n\u001b[1;32m    101\u001b[0m         VariableInfo,\n\u001b[1;32m    102\u001b[0m     )\n\u001b[0;32m--> 103\u001b[0m     \u001b[39mfrom\u001b[39;00m \u001b[39mpandas_profiling\u001b[39;00m\u001b[39m.\u001b[39;00m\u001b[39mreport\u001b[39;00m\u001b[39m.\u001b[39;00m\u001b[39mpresentation\u001b[39;00m\u001b[39m.\u001b[39;00m\u001b[39mflavours\u001b[39;00m\u001b[39m.\u001b[39;00m\u001b[39mwidget\u001b[39;00m \u001b[39mimport\u001b[39;00m (\n\u001b[1;32m    104\u001b[0m         WidgetAlerts,\n\u001b[1;32m    105\u001b[0m         WidgetCollapse,\n\u001b[1;32m    106\u001b[0m         WidgetContainer,\n\u001b[1;32m    107\u001b[0m         WidgetDuplicate,\n\u001b[1;32m    108\u001b[0m         WidgetFrequencyTable,\n\u001b[1;32m    109\u001b[0m         WidgetFrequencyTableSmall,\n\u001b[1;32m    110\u001b[0m         WidgetHTML,\n\u001b[1;32m    111\u001b[0m         WidgetImage,\n\u001b[1;32m    112\u001b[0m         WidgetRoot,\n\u001b[1;32m    113\u001b[0m         WidgetSample,\n\u001b[1;32m    114\u001b[0m         WidgetTable,\n\u001b[1;32m    115\u001b[0m         WidgetToggleButton,\n\u001b[1;32m    116\u001b[0m         WidgetVariable,\n\u001b[1;32m    117\u001b[0m         WidgetVariableInfo,\n\u001b[1;32m    118\u001b[0m     )\n\u001b[1;32m    120\u001b[0m     \u001b[39mreturn\u001b[39;00m {\n\u001b[1;32m    121\u001b[0m         Container: WidgetContainer,\n\u001b[1;32m    122\u001b[0m         Variable: WidgetVariable,\n\u001b[0;32m   (...)\u001b[0m\n\u001b[1;32m    134\u001b[0m         Collapse: WidgetCollapse,\n\u001b[1;32m    135\u001b[0m     }\n",
      "File \u001b[0;32m~/miniconda3/envs/mlflow-b72ed4c0c06d43bda6d31dff843990bef553e411/lib/python3.9/site-packages/pandas_profiling/report/presentation/flavours/widget/__init__.py:1\u001b[0m\n\u001b[0;32m----> 1\u001b[0m \u001b[39mfrom\u001b[39;00m \u001b[39mpandas_profiling\u001b[39;00m\u001b[39m.\u001b[39;00m\u001b[39mreport\u001b[39;00m\u001b[39m.\u001b[39;00m\u001b[39mpresentation\u001b[39;00m\u001b[39m.\u001b[39;00m\u001b[39mflavours\u001b[39;00m\u001b[39m.\u001b[39;00m\u001b[39mwidget\u001b[39;00m\u001b[39m.\u001b[39;00m\u001b[39malerts\u001b[39;00m \u001b[39mimport\u001b[39;00m WidgetAlerts\n\u001b[1;32m      2\u001b[0m \u001b[39mfrom\u001b[39;00m \u001b[39mpandas_profiling\u001b[39;00m\u001b[39m.\u001b[39;00m\u001b[39mreport\u001b[39;00m\u001b[39m.\u001b[39;00m\u001b[39mpresentation\u001b[39;00m\u001b[39m.\u001b[39;00m\u001b[39mflavours\u001b[39;00m\u001b[39m.\u001b[39;00m\u001b[39mwidget\u001b[39;00m\u001b[39m.\u001b[39;00m\u001b[39mcollapse\u001b[39;00m \u001b[39mimport\u001b[39;00m WidgetCollapse\n\u001b[1;32m      3\u001b[0m \u001b[39mfrom\u001b[39;00m \u001b[39mpandas_profiling\u001b[39;00m\u001b[39m.\u001b[39;00m\u001b[39mreport\u001b[39;00m\u001b[39m.\u001b[39;00m\u001b[39mpresentation\u001b[39;00m\u001b[39m.\u001b[39;00m\u001b[39mflavours\u001b[39;00m\u001b[39m.\u001b[39;00m\u001b[39mwidget\u001b[39;00m\u001b[39m.\u001b[39;00m\u001b[39mcontainer\u001b[39;00m \u001b[39mimport\u001b[39;00m (\n\u001b[1;32m      4\u001b[0m     WidgetContainer,\n\u001b[1;32m      5\u001b[0m )\n",
      "File \u001b[0;32m~/miniconda3/envs/mlflow-b72ed4c0c06d43bda6d31dff843990bef553e411/lib/python3.9/site-packages/pandas_profiling/report/presentation/flavours/widget/alerts.py:3\u001b[0m\n\u001b[1;32m      1\u001b[0m \u001b[39mfrom\u001b[39;00m \u001b[39mtyping\u001b[39;00m \u001b[39mimport\u001b[39;00m List\n\u001b[0;32m----> 3\u001b[0m \u001b[39mfrom\u001b[39;00m \u001b[39mipywidgets\u001b[39;00m \u001b[39mimport\u001b[39;00m HTML, Button, widgets\n\u001b[1;32m      5\u001b[0m \u001b[39mfrom\u001b[39;00m \u001b[39mpandas_profiling\u001b[39;00m\u001b[39m.\u001b[39;00m\u001b[39mreport\u001b[39;00m\u001b[39m.\u001b[39;00m\u001b[39mpresentation\u001b[39;00m\u001b[39m.\u001b[39;00m\u001b[39mcore\u001b[39;00m \u001b[39mimport\u001b[39;00m Alerts\n\u001b[1;32m      6\u001b[0m \u001b[39mfrom\u001b[39;00m \u001b[39mpandas_profiling\u001b[39;00m\u001b[39m.\u001b[39;00m\u001b[39mreport\u001b[39;00m\u001b[39m.\u001b[39;00m\u001b[39mpresentation\u001b[39;00m\u001b[39m.\u001b[39;00m\u001b[39mflavours\u001b[39;00m\u001b[39m.\u001b[39;00m\u001b[39mhtml\u001b[39;00m \u001b[39mimport\u001b[39;00m templates\n",
      "\u001b[0;31mModuleNotFoundError\u001b[0m: No module named 'ipywidgets'"
     ]
    }
   ],
   "source": [
    "import pandas_profiling\n",
    "\n",
    "profile = pandas_profiling.ProfileReport(df)\n",
    "profile.to_widgets()"
   ]
  }
 ],
 "metadata": {
  "kernelspec": {
   "display_name": "Python 3.9.13 ('mlflow-b72ed4c0c06d43bda6d31dff843990bef553e411')",
   "language": "python",
   "name": "python3"
  },
  "language_info": {
   "codemirror_mode": {
    "name": "ipython",
    "version": 3
   },
   "file_extension": ".py",
   "mimetype": "text/x-python",
   "name": "python",
   "nbconvert_exporter": "python",
   "pygments_lexer": "ipython3",
   "version": "3.9.13"
  },
  "orig_nbformat": 4,
  "vscode": {
   "interpreter": {
    "hash": "a0ac5ff7e483b71b7022badfd1e316782b97e3ef3eb512ed486eca1f55d7f78e"
   }
  }
 },
 "nbformat": 4,
 "nbformat_minor": 2
}
